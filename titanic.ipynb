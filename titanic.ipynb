{
 "metadata": {
  "language_info": {
   "codemirror_mode": {
    "name": "ipython",
    "version": 3
   },
   "file_extension": ".py",
   "mimetype": "text/x-python",
   "name": "python",
   "nbconvert_exporter": "python",
   "pygments_lexer": "ipython3",
   "version": "3.8.8-final"
  },
  "orig_nbformat": 2,
  "kernelspec": {
   "name": "python388jvsc74a57bd0c49a9b05754818a2161b34a823d8bf1ffbfe8c9bbbc41f946d1a16588a1e9fd6",
   "display_name": "Python 3.8.8 64-bit ('datascience-env')"
  }
 },
 "nbformat": 4,
 "nbformat_minor": 2,
 "cells": [
  {
   "cell_type": "code",
   "execution_count": 29,
   "metadata": {},
   "outputs": [],
   "source": [
    "import numpy as np\n",
    "import pandas as pd\n",
    "from sklearn import linear_model\n",
    "from sklearn.model_selection import train_test_split\n",
    "from sklearn.metrics import log_loss\n"
   ]
  },
  {
   "source": [
    "# Load the Dataset and Clean"
   ],
   "cell_type": "markdown",
   "metadata": {}
  },
  {
   "cell_type": "code",
   "execution_count": 30,
   "metadata": {},
   "outputs": [
    {
     "output_type": "execute_result",
     "data": {
      "text/plain": [
       "    PassengerId  Survived  Pclass  \\\n",
       "1             2         1       1   \n",
       "3             4         1       1   \n",
       "6             7         0       1   \n",
       "10           11         1       3   \n",
       "11           12         1       1   \n",
       "\n",
       "                                                 Name  Sex   Age  SibSp  \\\n",
       "1   Cumings, Mrs. John Bradley (Florence Briggs Th...    0  38.0      1   \n",
       "3        Futrelle, Mrs. Jacques Heath (Lily May Peel)    0  35.0      1   \n",
       "6                             McCarthy, Mr. Timothy J    1  54.0      0   \n",
       "10                    Sandstrom, Miss. Marguerite Rut    0   4.0      1   \n",
       "11                           Bonnell, Miss. Elizabeth    0  58.0      0   \n",
       "\n",
       "    Parch    Ticket     Fare Cabin Embarked  \n",
       "1       0  PC 17599  71.2833   C85        C  \n",
       "3       0    113803  53.1000  C123        S  \n",
       "6       0     17463  51.8625   E46        S  \n",
       "10      1   PP 9549  16.7000    G6        S  \n",
       "11      0    113783  26.5500  C103        S  "
      ],
      "text/html": "<div>\n<style scoped>\n    .dataframe tbody tr th:only-of-type {\n        vertical-align: middle;\n    }\n\n    .dataframe tbody tr th {\n        vertical-align: top;\n    }\n\n    .dataframe thead th {\n        text-align: right;\n    }\n</style>\n<table border=\"1\" class=\"dataframe\">\n  <thead>\n    <tr style=\"text-align: right;\">\n      <th></th>\n      <th>PassengerId</th>\n      <th>Survived</th>\n      <th>Pclass</th>\n      <th>Name</th>\n      <th>Sex</th>\n      <th>Age</th>\n      <th>SibSp</th>\n      <th>Parch</th>\n      <th>Ticket</th>\n      <th>Fare</th>\n      <th>Cabin</th>\n      <th>Embarked</th>\n    </tr>\n  </thead>\n  <tbody>\n    <tr>\n      <th>1</th>\n      <td>2</td>\n      <td>1</td>\n      <td>1</td>\n      <td>Cumings, Mrs. John Bradley (Florence Briggs Th...</td>\n      <td>0</td>\n      <td>38.0</td>\n      <td>1</td>\n      <td>0</td>\n      <td>PC 17599</td>\n      <td>71.2833</td>\n      <td>C85</td>\n      <td>C</td>\n    </tr>\n    <tr>\n      <th>3</th>\n      <td>4</td>\n      <td>1</td>\n      <td>1</td>\n      <td>Futrelle, Mrs. Jacques Heath (Lily May Peel)</td>\n      <td>0</td>\n      <td>35.0</td>\n      <td>1</td>\n      <td>0</td>\n      <td>113803</td>\n      <td>53.1000</td>\n      <td>C123</td>\n      <td>S</td>\n    </tr>\n    <tr>\n      <th>6</th>\n      <td>7</td>\n      <td>0</td>\n      <td>1</td>\n      <td>McCarthy, Mr. Timothy J</td>\n      <td>1</td>\n      <td>54.0</td>\n      <td>0</td>\n      <td>0</td>\n      <td>17463</td>\n      <td>51.8625</td>\n      <td>E46</td>\n      <td>S</td>\n    </tr>\n    <tr>\n      <th>10</th>\n      <td>11</td>\n      <td>1</td>\n      <td>3</td>\n      <td>Sandstrom, Miss. Marguerite Rut</td>\n      <td>0</td>\n      <td>4.0</td>\n      <td>1</td>\n      <td>1</td>\n      <td>PP 9549</td>\n      <td>16.7000</td>\n      <td>G6</td>\n      <td>S</td>\n    </tr>\n    <tr>\n      <th>11</th>\n      <td>12</td>\n      <td>1</td>\n      <td>1</td>\n      <td>Bonnell, Miss. Elizabeth</td>\n      <td>0</td>\n      <td>58.0</td>\n      <td>0</td>\n      <td>0</td>\n      <td>113783</td>\n      <td>26.5500</td>\n      <td>C103</td>\n      <td>S</td>\n    </tr>\n  </tbody>\n</table>\n</div>"
     },
     "metadata": {},
     "execution_count": 30
    }
   ],
   "source": [
    "def load_data(file_name):\n",
    "    data = pd.read_csv(file_name)\n",
    "    return data\n",
    "\n",
    "def clean_data(data):\n",
    "    data['Sex'] = data.apply(lambda row: 1 if row.Sex == 'male' else 0, axis=1)\n",
    "    data['Cabin'] = data.apply(clean_cabin, axis=1)\n",
    "    data = data.dropna()\n",
    "    return data\n",
    "\n",
    "def clean_cabin(row):\n",
    "    if \"A\" in row.Cabin:\n",
    "        return 1\n",
    "    return 0\n",
    "\n",
    "train = clean_data(load_data('data/train.csv'))\n",
    "train.head()"
   ]
  },
  {
   "source": [
    "# Split into Train and Test"
   ],
   "cell_type": "markdown",
   "metadata": {}
  },
  {
   "cell_type": "code",
   "execution_count": 31,
   "metadata": {},
   "outputs": [],
   "source": [
    "X = train[['Pclass', 'Age', 'SibSp', 'Parch', 'Fare', 'Sex']]\n",
    "y = train[['Survived']]"
   ]
  },
  {
   "cell_type": "code",
   "execution_count": 32,
   "metadata": {},
   "outputs": [],
   "source": [
    "X_train, X_test, y_train, y_test = train_test_split(X, y, test_size=0.2)"
   ]
  },
  {
   "cell_type": "code",
   "execution_count": 33,
   "metadata": {},
   "outputs": [
    {
     "output_type": "execute_result",
     "data": {
      "text/plain": [
       "(     Pclass   Age  SibSp  Parch      Fare  Sex\n",
       " 862       1  48.0      0      0   25.9292    0\n",
       " 438       1  64.0      1      4  263.0000    1\n",
       " 291       1  19.0      1      0   91.0792    0\n",
       " 435       1  14.0      1      2  120.0000    0\n",
       " 193       2   3.0      1      1   26.0000    1\n",
       " ..      ...   ...    ...    ...       ...  ...\n",
       " 445       1   4.0      0      2   81.8583    1\n",
       " 88        1  23.0      3      2  263.0000    0\n",
       " 782       1  29.0      0      0   30.0000    1\n",
       " 872       1  33.0      0      0    5.0000    1\n",
       " 257       1  30.0      0      0   86.5000    0\n",
       " \n",
       " [137 rows x 6 columns],\n",
       "      Survived\n",
       " 862         1\n",
       " 438         0\n",
       " 291         1\n",
       " 435         1\n",
       " 193         1\n",
       " ..        ...\n",
       " 445         1\n",
       " 88          1\n",
       " 782         0\n",
       " 872         0\n",
       " 257         1\n",
       " \n",
       " [137 rows x 1 columns])"
      ]
     },
     "metadata": {},
     "execution_count": 33
    }
   ],
   "source": [
    "X_train, y_train"
   ]
  },
  {
   "source": [
    "# Train Linear Regression model"
   ],
   "cell_type": "markdown",
   "metadata": {}
  },
  {
   "cell_type": "code",
   "execution_count": 34,
   "metadata": {},
   "outputs": [
    {
     "output_type": "execute_result",
     "data": {
      "text/plain": [
       "'test_loss=0.45037246418749116 train_loss=0.6665298870624607'"
      ]
     },
     "metadata": {},
     "execution_count": 34
    }
   ],
   "source": [
    "model = linear_model.LinearRegression()\n",
    "model.fit(X_train, y_train)\n",
    "test_loss = log_loss(y_test, model.predict(X_test))\n",
    "train_loss = log_loss(y_train, model.predict(X_train))\n",
    "'test_loss={} train_loss={}'.format(test_loss, train_loss)"
   ]
  },
  {
   "cell_type": "code",
   "execution_count": null,
   "metadata": {},
   "outputs": [],
   "source": []
  }
 ]
}