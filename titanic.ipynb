{
 "metadata": {
  "language_info": {
   "codemirror_mode": {
    "name": "ipython",
    "version": 3
   },
   "file_extension": ".py",
   "mimetype": "text/x-python",
   "name": "python",
   "nbconvert_exporter": "python",
   "pygments_lexer": "ipython3",
   "version": "3.8.1-final"
  },
  "orig_nbformat": 2,
  "kernelspec": {
   "name": "python3",
   "display_name": "Python 3.8.1 32-bit ('venv')",
   "metadata": {
    "interpreter": {
     "hash": "55600ae0341b94f0350682e67947451967a87316ce5dea6c82352188d5c150e6"
    }
   }
  }
 },
 "nbformat": 4,
 "nbformat_minor": 2,
 "cells": [
  {
   "cell_type": "code",
   "execution_count": 103,
   "metadata": {},
   "outputs": [],
   "source": [
    "import numpy as np\n",
    "import pandas as pd\n",
    "from sklearn import linear_model\n",
    "from sklearn.model_selection import train_test_split\n",
    "from sklearn.metrics import log_loss\n"
   ]
  },
  {
   "source": [
    "# Load the Dataset and Clean"
   ],
   "cell_type": "markdown",
   "metadata": {}
  },
  {
   "cell_type": "code",
   "execution_count": 104,
   "metadata": {},
   "outputs": [],
   "source": [
    "def load_data(file_name):\n",
    "    data = pd.read_csv(file_name)\n",
    "    return data\n",
    "\n",
    "def clean_data(data):\n",
    "    data['Sex'] = data.apply(lambda row: 1 if row.Sex == 'male' else 0, axis=1)\n",
    "    data = data.fillna(0)\n",
    "    return data\n",
    "\n",
    "train = clean_data(load_data('data/train.csv'))"
   ]
  },
  {
   "source": [
    "# Split into Train and Test"
   ],
   "cell_type": "markdown",
   "metadata": {}
  },
  {
   "cell_type": "code",
   "execution_count": 105,
   "metadata": {},
   "outputs": [],
   "source": [
    "X = train[['Pclass', 'Age', 'SibSp', 'Parch', 'Fare', 'Sex']]\n",
    "y = train[['Survived']]"
   ]
  },
  {
   "cell_type": "code",
   "execution_count": 106,
   "metadata": {},
   "outputs": [],
   "source": [
    "X_train, X_test, y_train, y_test = train_test_split(X, y, test_size=0.33)"
   ]
  },
  {
   "cell_type": "code",
   "execution_count": 111,
   "metadata": {},
   "outputs": [
    {
     "output_type": "execute_result",
     "data": {
      "text/plain": [
       "(     Pclass   Age  SibSp  Parch      Fare  Sex\n",
       " 505       1  18.0      1      0  108.9000    1\n",
       " 349       3  42.0      0      0    8.6625    1\n",
       " 303       2   0.0      0      0   12.3500    0\n",
       " 198       3   0.0      0      0    7.7500    0\n",
       " 501       3  21.0      0      0    7.7500    0\n",
       " ..      ...   ...    ...    ...       ...  ...\n",
       " 855       3  18.0      0      1    9.3500    0\n",
       " 217       2  42.0      1      0   27.0000    1\n",
       " 848       2  28.0      0      1   33.0000    1\n",
       " 663       3  36.0      0      0    7.4958    1\n",
       " 432       2  42.0      1      0   26.0000    0\n",
       " \n",
       " [596 rows x 6 columns],\n",
       "      Survived\n",
       " 505         0\n",
       " 349         0\n",
       " 303         1\n",
       " 198         1\n",
       " 501         0\n",
       " ..        ...\n",
       " 855         1\n",
       " 217         0\n",
       " 848         0\n",
       " 663         0\n",
       " 432         1\n",
       " \n",
       " [596 rows x 1 columns])"
      ]
     },
     "metadata": {},
     "execution_count": 111
    }
   ],
   "source": [
    "X_train, y_train"
   ]
  },
  {
   "source": [
    "# Train Linear Regression model"
   ],
   "cell_type": "markdown",
   "metadata": {}
  },
  {
   "cell_type": "code",
   "execution_count": 116,
   "metadata": {},
   "outputs": [
    {
     "output_type": "execute_result",
     "data": {
      "text/plain": [
       "'test_loss=0.5396553918014746 train_loss=0.46794473732852054'"
      ]
     },
     "metadata": {},
     "execution_count": 116
    }
   ],
   "source": [
    "model = linear_model.LinearRegression()\n",
    "model.fit(X_train, y_train)\n",
    "test_loss = log_loss(y_test, model.predict(X_test))\n",
    "train_loss = log_loss(y_train, model.predict(X_train))\n",
    "'test_loss={} train_loss={}'.format(test_loss, train_loss)"
   ]
  },
  {
   "cell_type": "code",
   "execution_count": null,
   "metadata": {},
   "outputs": [],
   "source": []
  }
 ]
}